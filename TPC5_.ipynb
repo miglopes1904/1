{
  "nbformat": 4,
  "nbformat_minor": 0,
  "metadata": {
    "colab": {
      "name": "TPC5 .ipynb",
      "version": "0.3.2",
      "provenance": [],
      "collapsed_sections": []
    },
    "kernelspec": {
      "name": "python3",
      "display_name": "Python 3"
    }
  },
  "cells": [
    {
      "metadata": {
        "id": "JGiaCABiLbmf",
        "colab_type": "code",
        "outputId": "866667a5-39de-4469-c4e5-6b8e25920748",
        "colab": {
          "resources": {
            "http://localhost:8080/nbextensions/google.colab/files.js": {
              "data": "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",
              "ok": true,
              "headers": [
                [
                  "content-type",
                  "application/javascript"
                ]
              ],
              "status": 200,
              "status_text": ""
            }
          },
          "base_uri": "https://localhost:8080/",
          "height": 73
        }
      },
      "cell_type": "code",
      "source": [
        "from google.colab import files\n",
        "uploaded = files.upload()"
      ],
      "execution_count": 1,
      "outputs": [
        {
          "output_type": "display_data",
          "data": {
            "text/html": [
              "\n",
              "     <input type=\"file\" id=\"files-a09cab03-fcaa-477f-be22-e220ccd5b3f8\" name=\"files[]\" multiple disabled />\n",
              "     <output id=\"result-a09cab03-fcaa-477f-be22-e220ccd5b3f8\">\n",
              "      Upload widget is only available when the cell has been executed in the\n",
              "      current browser session. Please rerun this cell to enable.\n",
              "      </output>\n",
              "      <script src=\"/nbextensions/google.colab/files.js\"></script> "
            ],
            "text/plain": [
              "<IPython.core.display.HTML object>"
            ]
          },
          "metadata": {
            "tags": []
          }
        },
        {
          "output_type": "stream",
          "text": [
            "Saving winemag-data-130k-v2.csv to winemag-data-130k-v2 (1).csv\n"
          ],
          "name": "stdout"
        }
      ]
    },
    {
      "metadata": {
        "id": "qbENz4ZPLpc5",
        "colab_type": "code",
        "colab": {}
      },
      "cell_type": "code",
      "source": [
        "import pandas as pd\n",
        "import io\n",
        "\n",
        "\n",
        "from sklearn import preprocessing\n",
        "\n",
        "\n",
        "\n",
        "df = pd.read_csv(io.StringIO(uploaded['winemag-data-130k-v2.csv'].decode('utf-8')))\n",
        "\n",
        "df.__delitem__('Unnamed: 0')\n",
        "df = df.drop('description',1)\n",
        "#Removemos o country e o taster_twitter_handle porque ao fazer a limpeza de NaNs descobrimos que as entradas que têm informação são todas do US \n",
        "#e o twitter de cada taster corresponde a cada um, sendo que taster_name = taster_twitter_handle\n",
        "df = df.drop('country',1)\n",
        "df = df.drop('taster_twitter_handle',1)\n",
        "\n",
        "\n",
        "df = df[['price', 'designation','points','province','region_1','region_2','taster_name','title','variety','winery']]\n",
        "\n",
        "\n",
        "df = df.dropna(subset=['price'])\n",
        "#df = df.dropna(subset=['country'])\n",
        "df = df.dropna(subset=['designation'])\n",
        "df = df.dropna(subset=['points'])\n",
        "df = df.dropna(subset=['province'])\n",
        "df = df.dropna(subset=['region_1'])\n",
        "df = df.dropna(subset=['region_2'])\n",
        "df = df.dropna(subset=['taster_name'])\n",
        "#df = df.dropna(subset=['taster_twitter_handle'])\n",
        "df = df.dropna(subset=['title'])\n",
        "df = df.dropna(subset=['variety'])\n",
        "df = df.dropna(subset=['winery'])\n",
        "\n",
        "\n",
        "\n",
        "\n",
        "\n",
        "\n",
        "\n",
        "\n",
        "df_original = pd.read_csv(io.StringIO(uploaded['winemag-data-130k-v2.csv'].decode('utf-8')))\n",
        "df_original.__delitem__('Unnamed: 0')\n",
        "df_original = df_original.drop('country',1)\n",
        "df_original = df_original.drop('taster_twitter_handle',1)\n",
        "\n",
        "df_original = df_original.dropna(subset=['price'])\n",
        "df_original = df_original.dropna(subset=['description'])\n",
        "df_original = df_original.dropna(subset=['designation'])\n",
        "df_original = df_original.dropna(subset=['points'])\n",
        "df_original = df_original.dropna(subset=['province'])\n",
        "df_original = df_original.dropna(subset=['region_1'])\n",
        "df_original = df_original.dropna(subset=['region_2'])\n",
        "df_original = df_original.dropna(subset=['taster_name'])\n",
        "#df_original = df_original.dropna(subset=['taster_twitter_handle'])\n",
        "df_original = df_original.dropna(subset=['title'])\n",
        "df_original = df_original.dropna(subset=['variety'])\n",
        "df_original = df_original.dropna(subset=['winery'])\n",
        "\n"
      ],
      "execution_count": 0,
      "outputs": []
    },
    {
      "metadata": {
        "id": "CQQOKVSnozUL",
        "colab_type": "code",
        "colab": {}
      },
      "cell_type": "code",
      "source": [
        "#Encoding das variáveis\n",
        "\n",
        "df[\"province\"] = df[\"province\"].astype('category')\n",
        "df[\"province\"] = df[\"province\"].cat.codes\n",
        "\n",
        "\n",
        "\n",
        "df[\"designation\"] = df[\"designation\"].astype('category')\n",
        "df[\"designation\"] = df[\"designation\"].cat.codes\n",
        "\n",
        "df[\"region_1\"] = df[\"region_1\"].astype('category')\n",
        "df[\"region_1\"] = df[\"region_1\"].cat.codes\n",
        "\n",
        "df[\"region_2\"] = df[\"region_2\"].astype('category')\n",
        "df[\"region_2\"] = df[\"region_2\"].cat.codes\n",
        "\n",
        "df[\"taster_name\"] = df[\"taster_name\"].astype('category')\n",
        "df[\"taster_name\"] = df[\"taster_name\"].cat.codes\n",
        "\n",
        "\n",
        "\n",
        "df[\"title\"] = df[\"title\"].astype('category')\n",
        "df[\"title\"] = df[\"title\"].cat.codes\n",
        "\n",
        "df[\"variety\"] = df[\"variety\"].astype('category')\n",
        "df[\"variety\"] = df[\"variety\"].cat.codes\n",
        "\n",
        "df[\"winery\"] = df[\"winery\"].astype('category')\n",
        "df[\"winery\"] = df[\"winery\"].cat.codes\n",
        "\n",
        "df[\"price\"] = df[\"price\"].astype('category')\n",
        "df[\"price\"] = df[\"price\"].cat.codes\n",
        "\n",
        "\n",
        "\n",
        "\n",
        "\n",
        "\n",
        "df_price = df.drop([ 'designation', 'points','province','region_1','region_2','taster_name','title','variety','winery'], axis=1)\n",
        "\n",
        "df_values = df.drop(['price'], axis=1)\n",
        "\n",
        "df_heat = df\n",
        "\n"
      ],
      "execution_count": 0,
      "outputs": []
    },
    {
      "metadata": {
        "id": "7HqkLxzhPWQO",
        "colab_type": "code",
        "colab": {
          "base_uri": "https://localhost:8080/",
          "height": 2016
        },
        "outputId": "5ddf03d1-6e32-4044-c4db-94cdab659663"
      },
      "cell_type": "code",
      "source": [
        "#normalizar\n",
        "x = df.values #returns a numpy array\n",
        "min_max_scaler = preprocessing.MinMaxScaler()\n",
        "x_scaled = min_max_scaler.fit_transform(x)\n",
        "df = pd.DataFrame(x_scaled)\n",
        "\n",
        "#normalizar\n",
        "x = df_values.values #returns a numpy array\n",
        "min_max_scaler = preprocessing.MinMaxScaler()\n",
        "x_scaled = min_max_scaler.fit_transform(x)\n",
        "df_values = pd.DataFrame(x_scaled)\n",
        "\n",
        "#normalizar\n",
        "x = df_price.values #returns a numpy array\n",
        "min_max_scaler = preprocessing.MinMaxScaler()\n",
        "x_scaled = min_max_scaler.fit_transform(x)\n",
        "df_price = pd.DataFrame(x_scaled)\n",
        "\n",
        "#df_price\n",
        "\n",
        "#df_values\n",
        "df\n",
        "\n"
      ],
      "execution_count": 5,
      "outputs": [
        {
          "output_type": "stream",
          "text": [
            "/usr/local/lib/python3.6/dist-packages/sklearn/utils/validation.py:595: DataConversionWarning: Data with input dtype int64 was converted to float64 by MinMaxScaler.\n",
            "  warnings.warn(msg, DataConversionWarning)\n",
            "/usr/local/lib/python3.6/dist-packages/sklearn/utils/validation.py:595: DataConversionWarning: Data with input dtype int64 was converted to float64 by MinMaxScaler.\n",
            "  warnings.warn(msg, DataConversionWarning)\n",
            "/usr/local/lib/python3.6/dist-packages/sklearn/utils/validation.py:595: DataConversionWarning: Data with input dtype int16 was converted to float64 by MinMaxScaler.\n",
            "  warnings.warn(msg, DataConversionWarning)\n"
          ],
          "name": "stderr"
        },
        {
          "output_type": "execute_result",
          "data": {
            "text/html": [
              "<div>\n",
              "<style scoped>\n",
              "    .dataframe tbody tr th:only-of-type {\n",
              "        vertical-align: middle;\n",
              "    }\n",
              "\n",
              "    .dataframe tbody tr th {\n",
              "        vertical-align: top;\n",
              "    }\n",
              "\n",
              "    .dataframe thead th {\n",
              "        text-align: right;\n",
              "    }\n",
              "</style>\n",
              "<table border=\"1\" class=\"dataframe\">\n",
              "  <thead>\n",
              "    <tr style=\"text-align: right;\">\n",
              "      <th></th>\n",
              "      <th>0</th>\n",
              "      <th>1</th>\n",
              "      <th>2</th>\n",
              "      <th>3</th>\n",
              "      <th>4</th>\n",
              "      <th>5</th>\n",
              "      <th>6</th>\n",
              "      <th>7</th>\n",
              "      <th>8</th>\n",
              "      <th>9</th>\n",
              "    </tr>\n",
              "  </thead>\n",
              "  <tbody>\n",
              "    <tr>\n",
              "      <th>0</th>\n",
              "      <td>0.413793</td>\n",
              "      <td>0.945736</td>\n",
              "      <td>0.35</td>\n",
              "      <td>0.666667</td>\n",
              "      <td>0.965318</td>\n",
              "      <td>1.0000</td>\n",
              "      <td>0.636364</td>\n",
              "      <td>0.858695</td>\n",
              "      <td>0.612245</td>\n",
              "      <td>0.848348</td>\n",
              "    </tr>\n",
              "    <tr>\n",
              "      <th>1</th>\n",
              "      <td>0.096552</td>\n",
              "      <td>0.564489</td>\n",
              "      <td>0.35</td>\n",
              "      <td>0.000000</td>\n",
              "      <td>0.479769</td>\n",
              "      <td>0.3750</td>\n",
              "      <td>1.000000</td>\n",
              "      <td>0.487833</td>\n",
              "      <td>0.107143</td>\n",
              "      <td>0.480696</td>\n",
              "    </tr>\n",
              "    <tr>\n",
              "      <th>2</th>\n",
              "      <td>0.117241</td>\n",
              "      <td>0.780948</td>\n",
              "      <td>0.35</td>\n",
              "      <td>0.000000</td>\n",
              "      <td>0.549133</td>\n",
              "      <td>0.0625</td>\n",
              "      <td>0.454545</td>\n",
              "      <td>0.103730</td>\n",
              "      <td>0.413265</td>\n",
              "      <td>0.098783</td>\n",
              "    </tr>\n",
              "    <tr>\n",
              "      <th>3</th>\n",
              "      <td>0.441379</td>\n",
              "      <td>0.444389</td>\n",
              "      <td>0.35</td>\n",
              "      <td>0.000000</td>\n",
              "      <td>0.780347</td>\n",
              "      <td>0.7500</td>\n",
              "      <td>1.000000</td>\n",
              "      <td>0.167329</td>\n",
              "      <td>0.612245</td>\n",
              "      <td>0.164870</td>\n",
              "    </tr>\n",
              "    <tr>\n",
              "      <th>4</th>\n",
              "      <td>0.310345</td>\n",
              "      <td>0.405786</td>\n",
              "      <td>0.30</td>\n",
              "      <td>0.666667</td>\n",
              "      <td>0.393064</td>\n",
              "      <td>1.0000</td>\n",
              "      <td>0.636364</td>\n",
              "      <td>0.315162</td>\n",
              "      <td>0.612245</td>\n",
              "      <td>0.303304</td>\n",
              "    </tr>\n",
              "    <tr>\n",
              "      <th>5</th>\n",
              "      <td>0.641379</td>\n",
              "      <td>0.285486</td>\n",
              "      <td>0.30</td>\n",
              "      <td>0.000000</td>\n",
              "      <td>0.479769</td>\n",
              "      <td>0.3750</td>\n",
              "      <td>1.000000</td>\n",
              "      <td>0.654796</td>\n",
              "      <td>0.107143</td>\n",
              "      <td>0.632000</td>\n",
              "    </tr>\n",
              "    <tr>\n",
              "      <th>6</th>\n",
              "      <td>0.137931</td>\n",
              "      <td>0.023940</td>\n",
              "      <td>0.30</td>\n",
              "      <td>1.000000</td>\n",
              "      <td>0.184971</td>\n",
              "      <td>0.1875</td>\n",
              "      <td>0.818182</td>\n",
              "      <td>0.714377</td>\n",
              "      <td>0.081633</td>\n",
              "      <td>0.705391</td>\n",
              "    </tr>\n",
              "    <tr>\n",
              "      <th>7</th>\n",
              "      <td>0.144828</td>\n",
              "      <td>0.360299</td>\n",
              "      <td>0.30</td>\n",
              "      <td>0.000000</td>\n",
              "      <td>0.734104</td>\n",
              "      <td>0.0625</td>\n",
              "      <td>0.454545</td>\n",
              "      <td>0.789892</td>\n",
              "      <td>0.729592</td>\n",
              "      <td>0.785043</td>\n",
              "    </tr>\n",
              "    <tr>\n",
              "      <th>8</th>\n",
              "      <td>0.282759</td>\n",
              "      <td>0.417556</td>\n",
              "      <td>0.30</td>\n",
              "      <td>1.000000</td>\n",
              "      <td>0.184971</td>\n",
              "      <td>0.1875</td>\n",
              "      <td>0.818182</td>\n",
              "      <td>0.084646</td>\n",
              "      <td>0.066327</td>\n",
              "      <td>0.081043</td>\n",
              "    </tr>\n",
              "    <tr>\n",
              "      <th>9</th>\n",
              "      <td>0.241379</td>\n",
              "      <td>0.602394</td>\n",
              "      <td>0.30</td>\n",
              "      <td>0.000000</td>\n",
              "      <td>0.005780</td>\n",
              "      <td>0.7500</td>\n",
              "      <td>1.000000</td>\n",
              "      <td>0.299731</td>\n",
              "      <td>0.107143</td>\n",
              "      <td>0.288348</td>\n",
              "    </tr>\n",
              "    <tr>\n",
              "      <th>10</th>\n",
              "      <td>0.475862</td>\n",
              "      <td>0.077706</td>\n",
              "      <td>0.30</td>\n",
              "      <td>0.000000</td>\n",
              "      <td>0.312139</td>\n",
              "      <td>0.3750</td>\n",
              "      <td>1.000000</td>\n",
              "      <td>0.415970</td>\n",
              "      <td>0.107143</td>\n",
              "      <td>0.414261</td>\n",
              "    </tr>\n",
              "    <tr>\n",
              "      <th>11</th>\n",
              "      <td>0.344828</td>\n",
              "      <td>0.290673</td>\n",
              "      <td>0.30</td>\n",
              "      <td>0.000000</td>\n",
              "      <td>0.080925</td>\n",
              "      <td>0.3750</td>\n",
              "      <td>1.000000</td>\n",
              "      <td>0.415925</td>\n",
              "      <td>0.556122</td>\n",
              "      <td>0.414261</td>\n",
              "    </tr>\n",
              "    <tr>\n",
              "      <th>12</th>\n",
              "      <td>0.475862</td>\n",
              "      <td>0.861347</td>\n",
              "      <td>0.30</td>\n",
              "      <td>0.000000</td>\n",
              "      <td>0.479769</td>\n",
              "      <td>0.3750</td>\n",
              "      <td>1.000000</td>\n",
              "      <td>0.625942</td>\n",
              "      <td>0.066327</td>\n",
              "      <td>0.605565</td>\n",
              "    </tr>\n",
              "    <tr>\n",
              "      <th>13</th>\n",
              "      <td>0.137931</td>\n",
              "      <td>0.734165</td>\n",
              "      <td>0.30</td>\n",
              "      <td>0.666667</td>\n",
              "      <td>0.265896</td>\n",
              "      <td>1.0000</td>\n",
              "      <td>0.636364</td>\n",
              "      <td>0.991691</td>\n",
              "      <td>0.612245</td>\n",
              "      <td>0.988174</td>\n",
              "    </tr>\n",
              "    <tr>\n",
              "      <th>14</th>\n",
              "      <td>0.131034</td>\n",
              "      <td>0.172170</td>\n",
              "      <td>0.30</td>\n",
              "      <td>0.000000</td>\n",
              "      <td>0.479769</td>\n",
              "      <td>0.3750</td>\n",
              "      <td>1.000000</td>\n",
              "      <td>0.634936</td>\n",
              "      <td>0.994898</td>\n",
              "      <td>0.611130</td>\n",
              "    </tr>\n",
              "    <tr>\n",
              "      <th>15</th>\n",
              "      <td>0.344828</td>\n",
              "      <td>0.100848</td>\n",
              "      <td>0.30</td>\n",
              "      <td>0.000000</td>\n",
              "      <td>0.329480</td>\n",
              "      <td>0.7500</td>\n",
              "      <td>1.000000</td>\n",
              "      <td>0.674565</td>\n",
              "      <td>0.413265</td>\n",
              "      <td>0.658087</td>\n",
              "    </tr>\n",
              "    <tr>\n",
              "      <th>16</th>\n",
              "      <td>0.124138</td>\n",
              "      <td>0.779152</td>\n",
              "      <td>0.40</td>\n",
              "      <td>0.000000</td>\n",
              "      <td>0.786127</td>\n",
              "      <td>0.7500</td>\n",
              "      <td>1.000000</td>\n",
              "      <td>0.324750</td>\n",
              "      <td>0.642857</td>\n",
              "      <td>0.317217</td>\n",
              "    </tr>\n",
              "    <tr>\n",
              "      <th>17</th>\n",
              "      <td>0.344828</td>\n",
              "      <td>0.520399</td>\n",
              "      <td>0.40</td>\n",
              "      <td>0.000000</td>\n",
              "      <td>0.479769</td>\n",
              "      <td>0.3750</td>\n",
              "      <td>1.000000</td>\n",
              "      <td>0.352463</td>\n",
              "      <td>0.408163</td>\n",
              "      <td>0.341565</td>\n",
              "    </tr>\n",
              "    <tr>\n",
              "      <th>18</th>\n",
              "      <td>0.117241</td>\n",
              "      <td>0.366085</td>\n",
              "      <td>0.40</td>\n",
              "      <td>1.000000</td>\n",
              "      <td>0.184971</td>\n",
              "      <td>0.1875</td>\n",
              "      <td>0.818182</td>\n",
              "      <td>0.393416</td>\n",
              "      <td>0.964286</td>\n",
              "      <td>0.383304</td>\n",
              "    </tr>\n",
              "    <tr>\n",
              "      <th>19</th>\n",
              "      <td>0.103448</td>\n",
              "      <td>0.415362</td>\n",
              "      <td>0.40</td>\n",
              "      <td>0.333333</td>\n",
              "      <td>0.283237</td>\n",
              "      <td>0.2500</td>\n",
              "      <td>0.000000</td>\n",
              "      <td>0.411953</td>\n",
              "      <td>0.658163</td>\n",
              "      <td>0.406957</td>\n",
              "    </tr>\n",
              "    <tr>\n",
              "      <th>20</th>\n",
              "      <td>0.475862</td>\n",
              "      <td>0.418155</td>\n",
              "      <td>0.40</td>\n",
              "      <td>0.000000</td>\n",
              "      <td>0.479769</td>\n",
              "      <td>0.3750</td>\n",
              "      <td>1.000000</td>\n",
              "      <td>0.823586</td>\n",
              "      <td>0.066327</td>\n",
              "      <td>0.817739</td>\n",
              "    </tr>\n",
              "    <tr>\n",
              "      <th>21</th>\n",
              "      <td>0.103448</td>\n",
              "      <td>0.685885</td>\n",
              "      <td>0.35</td>\n",
              "      <td>0.333333</td>\n",
              "      <td>0.283237</td>\n",
              "      <td>0.2500</td>\n",
              "      <td>0.000000</td>\n",
              "      <td>0.513583</td>\n",
              "      <td>0.658163</td>\n",
              "      <td>0.502609</td>\n",
              "    </tr>\n",
              "    <tr>\n",
              "      <th>22</th>\n",
              "      <td>0.103448</td>\n",
              "      <td>0.988429</td>\n",
              "      <td>0.35</td>\n",
              "      <td>0.333333</td>\n",
              "      <td>0.283237</td>\n",
              "      <td>0.2500</td>\n",
              "      <td>0.000000</td>\n",
              "      <td>0.513811</td>\n",
              "      <td>0.658163</td>\n",
              "      <td>0.502609</td>\n",
              "    </tr>\n",
              "    <tr>\n",
              "      <th>23</th>\n",
              "      <td>0.144828</td>\n",
              "      <td>0.421247</td>\n",
              "      <td>0.35</td>\n",
              "      <td>0.000000</td>\n",
              "      <td>0.705202</td>\n",
              "      <td>0.0625</td>\n",
              "      <td>0.454545</td>\n",
              "      <td>0.579647</td>\n",
              "      <td>0.994898</td>\n",
              "      <td>0.560000</td>\n",
              "    </tr>\n",
              "    <tr>\n",
              "      <th>24</th>\n",
              "      <td>0.544828</td>\n",
              "      <td>0.983042</td>\n",
              "      <td>0.35</td>\n",
              "      <td>0.000000</td>\n",
              "      <td>1.000000</td>\n",
              "      <td>0.3750</td>\n",
              "      <td>1.000000</td>\n",
              "      <td>0.694699</td>\n",
              "      <td>0.107143</td>\n",
              "      <td>0.681391</td>\n",
              "    </tr>\n",
              "    <tr>\n",
              "      <th>25</th>\n",
              "      <td>0.089655</td>\n",
              "      <td>0.059850</td>\n",
              "      <td>0.35</td>\n",
              "      <td>0.000000</td>\n",
              "      <td>0.549133</td>\n",
              "      <td>0.0625</td>\n",
              "      <td>0.454545</td>\n",
              "      <td>0.707300</td>\n",
              "      <td>0.066327</td>\n",
              "      <td>0.697391</td>\n",
              "    </tr>\n",
              "    <tr>\n",
              "      <th>26</th>\n",
              "      <td>0.137931</td>\n",
              "      <td>0.141047</td>\n",
              "      <td>0.35</td>\n",
              "      <td>0.000000</td>\n",
              "      <td>0.734104</td>\n",
              "      <td>0.0625</td>\n",
              "      <td>0.454545</td>\n",
              "      <td>0.713281</td>\n",
              "      <td>0.311224</td>\n",
              "      <td>0.702609</td>\n",
              "    </tr>\n",
              "    <tr>\n",
              "      <th>27</th>\n",
              "      <td>0.544828</td>\n",
              "      <td>0.436708</td>\n",
              "      <td>0.55</td>\n",
              "      <td>0.000000</td>\n",
              "      <td>0.867052</td>\n",
              "      <td>0.3750</td>\n",
              "      <td>1.000000</td>\n",
              "      <td>0.875588</td>\n",
              "      <td>0.107143</td>\n",
              "      <td>0.864348</td>\n",
              "    </tr>\n",
              "    <tr>\n",
              "      <th>28</th>\n",
              "      <td>0.406897</td>\n",
              "      <td>0.374264</td>\n",
              "      <td>0.55</td>\n",
              "      <td>0.000000</td>\n",
              "      <td>0.716763</td>\n",
              "      <td>0.0625</td>\n",
              "      <td>0.454545</td>\n",
              "      <td>0.882025</td>\n",
              "      <td>0.612245</td>\n",
              "      <td>0.866435</td>\n",
              "    </tr>\n",
              "    <tr>\n",
              "      <th>29</th>\n",
              "      <td>0.434483</td>\n",
              "      <td>0.315810</td>\n",
              "      <td>0.55</td>\n",
              "      <td>0.000000</td>\n",
              "      <td>0.734104</td>\n",
              "      <td>0.0625</td>\n",
              "      <td>0.454545</td>\n",
              "      <td>0.936447</td>\n",
              "      <td>0.107143</td>\n",
              "      <td>0.933913</td>\n",
              "    </tr>\n",
              "    <tr>\n",
              "      <th>...</th>\n",
              "      <td>...</td>\n",
              "      <td>...</td>\n",
              "      <td>...</td>\n",
              "      <td>...</td>\n",
              "      <td>...</td>\n",
              "      <td>...</td>\n",
              "      <td>...</td>\n",
              "      <td>...</td>\n",
              "      <td>...</td>\n",
              "      <td>...</td>\n",
              "    </tr>\n",
              "    <tr>\n",
              "      <th>24006</th>\n",
              "      <td>0.103448</td>\n",
              "      <td>0.923292</td>\n",
              "      <td>0.45</td>\n",
              "      <td>1.000000</td>\n",
              "      <td>0.173410</td>\n",
              "      <td>0.9375</td>\n",
              "      <td>0.636364</td>\n",
              "      <td>0.860887</td>\n",
              "      <td>0.336735</td>\n",
              "      <td>0.850435</td>\n",
              "    </tr>\n",
              "    <tr>\n",
              "      <th>24007</th>\n",
              "      <td>0.172414</td>\n",
              "      <td>0.194214</td>\n",
              "      <td>0.45</td>\n",
              "      <td>1.000000</td>\n",
              "      <td>0.184971</td>\n",
              "      <td>0.1875</td>\n",
              "      <td>0.636364</td>\n",
              "      <td>0.129343</td>\n",
              "      <td>0.642857</td>\n",
              "      <td>0.125217</td>\n",
              "    </tr>\n",
              "    <tr>\n",
              "      <th>24008</th>\n",
              "      <td>0.103448</td>\n",
              "      <td>0.161796</td>\n",
              "      <td>0.30</td>\n",
              "      <td>1.000000</td>\n",
              "      <td>0.583815</td>\n",
              "      <td>0.1875</td>\n",
              "      <td>0.636364</td>\n",
              "      <td>0.119664</td>\n",
              "      <td>0.413265</td>\n",
              "      <td>0.114087</td>\n",
              "    </tr>\n",
              "    <tr>\n",
              "      <th>24009</th>\n",
              "      <td>0.289655</td>\n",
              "      <td>0.521895</td>\n",
              "      <td>0.50</td>\n",
              "      <td>0.000000</td>\n",
              "      <td>0.479769</td>\n",
              "      <td>0.3750</td>\n",
              "      <td>1.000000</td>\n",
              "      <td>0.068895</td>\n",
              "      <td>0.178571</td>\n",
              "      <td>0.064000</td>\n",
              "    </tr>\n",
              "    <tr>\n",
              "      <th>24010</th>\n",
              "      <td>0.103448</td>\n",
              "      <td>0.734165</td>\n",
              "      <td>0.50</td>\n",
              "      <td>0.000000</td>\n",
              "      <td>0.098266</td>\n",
              "      <td>0.4375</td>\n",
              "      <td>1.000000</td>\n",
              "      <td>0.089759</td>\n",
              "      <td>0.785714</td>\n",
              "      <td>0.086609</td>\n",
              "    </tr>\n",
              "    <tr>\n",
              "      <th>24011</th>\n",
              "      <td>0.268966</td>\n",
              "      <td>0.694763</td>\n",
              "      <td>0.50</td>\n",
              "      <td>0.000000</td>\n",
              "      <td>0.098266</td>\n",
              "      <td>0.4375</td>\n",
              "      <td>1.000000</td>\n",
              "      <td>0.147605</td>\n",
              "      <td>0.413265</td>\n",
              "      <td>0.144348</td>\n",
              "    </tr>\n",
              "    <tr>\n",
              "      <th>24012</th>\n",
              "      <td>0.275862</td>\n",
              "      <td>0.251671</td>\n",
              "      <td>0.50</td>\n",
              "      <td>1.000000</td>\n",
              "      <td>0.306358</td>\n",
              "      <td>0.1875</td>\n",
              "      <td>0.818182</td>\n",
              "      <td>0.720267</td>\n",
              "      <td>0.178571</td>\n",
              "      <td>0.710609</td>\n",
              "    </tr>\n",
              "    <tr>\n",
              "      <th>24013</th>\n",
              "      <td>0.137931</td>\n",
              "      <td>0.817257</td>\n",
              "      <td>0.50</td>\n",
              "      <td>0.000000</td>\n",
              "      <td>0.294798</td>\n",
              "      <td>0.7500</td>\n",
              "      <td>1.000000</td>\n",
              "      <td>0.738712</td>\n",
              "      <td>0.612245</td>\n",
              "      <td>0.728348</td>\n",
              "    </tr>\n",
              "    <tr>\n",
              "      <th>24014</th>\n",
              "      <td>0.213793</td>\n",
              "      <td>0.818055</td>\n",
              "      <td>0.50</td>\n",
              "      <td>1.000000</td>\n",
              "      <td>0.971098</td>\n",
              "      <td>0.1875</td>\n",
              "      <td>0.818182</td>\n",
              "      <td>0.846140</td>\n",
              "      <td>0.066327</td>\n",
              "      <td>0.836870</td>\n",
              "    </tr>\n",
              "    <tr>\n",
              "      <th>24015</th>\n",
              "      <td>0.496552</td>\n",
              "      <td>0.004389</td>\n",
              "      <td>0.50</td>\n",
              "      <td>1.000000</td>\n",
              "      <td>0.184971</td>\n",
              "      <td>0.1875</td>\n",
              "      <td>0.818182</td>\n",
              "      <td>0.873990</td>\n",
              "      <td>0.066327</td>\n",
              "      <td>0.862261</td>\n",
              "    </tr>\n",
              "    <tr>\n",
              "      <th>24016</th>\n",
              "      <td>0.213793</td>\n",
              "      <td>0.025536</td>\n",
              "      <td>0.50</td>\n",
              "      <td>0.000000</td>\n",
              "      <td>0.618497</td>\n",
              "      <td>0.7500</td>\n",
              "      <td>1.000000</td>\n",
              "      <td>0.009496</td>\n",
              "      <td>0.785714</td>\n",
              "      <td>0.009391</td>\n",
              "    </tr>\n",
              "    <tr>\n",
              "      <th>24017</th>\n",
              "      <td>0.137931</td>\n",
              "      <td>0.123990</td>\n",
              "      <td>0.50</td>\n",
              "      <td>0.000000</td>\n",
              "      <td>0.075145</td>\n",
              "      <td>0.0000</td>\n",
              "      <td>0.181818</td>\n",
              "      <td>0.107428</td>\n",
              "      <td>0.775510</td>\n",
              "      <td>0.100870</td>\n",
              "    </tr>\n",
              "    <tr>\n",
              "      <th>24018</th>\n",
              "      <td>0.282759</td>\n",
              "      <td>0.258753</td>\n",
              "      <td>0.50</td>\n",
              "      <td>0.000000</td>\n",
              "      <td>0.618497</td>\n",
              "      <td>0.7500</td>\n",
              "      <td>1.000000</td>\n",
              "      <td>0.561841</td>\n",
              "      <td>0.178571</td>\n",
              "      <td>0.543652</td>\n",
              "    </tr>\n",
              "    <tr>\n",
              "      <th>24019</th>\n",
              "      <td>0.103448</td>\n",
              "      <td>0.543840</td>\n",
              "      <td>0.50</td>\n",
              "      <td>1.000000</td>\n",
              "      <td>0.184971</td>\n",
              "      <td>0.1875</td>\n",
              "      <td>0.818182</td>\n",
              "      <td>0.566498</td>\n",
              "      <td>0.642857</td>\n",
              "      <td>0.548870</td>\n",
              "    </tr>\n",
              "    <tr>\n",
              "      <th>24020</th>\n",
              "      <td>0.379310</td>\n",
              "      <td>0.694763</td>\n",
              "      <td>0.50</td>\n",
              "      <td>1.000000</td>\n",
              "      <td>0.184971</td>\n",
              "      <td>0.1875</td>\n",
              "      <td>0.818182</td>\n",
              "      <td>0.587180</td>\n",
              "      <td>0.066327</td>\n",
              "      <td>0.565565</td>\n",
              "    </tr>\n",
              "    <tr>\n",
              "      <th>24021</th>\n",
              "      <td>0.641379</td>\n",
              "      <td>0.286484</td>\n",
              "      <td>0.55</td>\n",
              "      <td>0.000000</td>\n",
              "      <td>0.080925</td>\n",
              "      <td>0.3750</td>\n",
              "      <td>1.000000</td>\n",
              "      <td>0.454458</td>\n",
              "      <td>0.107143</td>\n",
              "      <td>0.451478</td>\n",
              "    </tr>\n",
              "    <tr>\n",
              "      <th>24022</th>\n",
              "      <td>0.172414</td>\n",
              "      <td>0.490873</td>\n",
              "      <td>0.55</td>\n",
              "      <td>0.000000</td>\n",
              "      <td>0.294798</td>\n",
              "      <td>0.7500</td>\n",
              "      <td>1.000000</td>\n",
              "      <td>0.580879</td>\n",
              "      <td>0.178571</td>\n",
              "      <td>0.560348</td>\n",
              "    </tr>\n",
              "    <tr>\n",
              "      <th>24023</th>\n",
              "      <td>0.213793</td>\n",
              "      <td>0.826733</td>\n",
              "      <td>0.55</td>\n",
              "      <td>0.000000</td>\n",
              "      <td>0.005780</td>\n",
              "      <td>0.7500</td>\n",
              "      <td>1.000000</td>\n",
              "      <td>0.589097</td>\n",
              "      <td>0.178571</td>\n",
              "      <td>0.568696</td>\n",
              "    </tr>\n",
              "    <tr>\n",
              "      <th>24024</th>\n",
              "      <td>0.324138</td>\n",
              "      <td>0.525387</td>\n",
              "      <td>0.55</td>\n",
              "      <td>0.000000</td>\n",
              "      <td>0.549133</td>\n",
              "      <td>0.0625</td>\n",
              "      <td>0.454545</td>\n",
              "      <td>0.608684</td>\n",
              "      <td>0.066327</td>\n",
              "      <td>0.587478</td>\n",
              "    </tr>\n",
              "    <tr>\n",
              "      <th>24025</th>\n",
              "      <td>0.172414</td>\n",
              "      <td>0.662045</td>\n",
              "      <td>0.55</td>\n",
              "      <td>0.000000</td>\n",
              "      <td>0.479769</td>\n",
              "      <td>0.3750</td>\n",
              "      <td>1.000000</td>\n",
              "      <td>0.672830</td>\n",
              "      <td>0.984694</td>\n",
              "      <td>0.653217</td>\n",
              "    </tr>\n",
              "    <tr>\n",
              "      <th>24026</th>\n",
              "      <td>0.193103</td>\n",
              "      <td>0.286584</td>\n",
              "      <td>0.55</td>\n",
              "      <td>0.000000</td>\n",
              "      <td>0.121387</td>\n",
              "      <td>0.7500</td>\n",
              "      <td>1.000000</td>\n",
              "      <td>0.180843</td>\n",
              "      <td>0.729592</td>\n",
              "      <td>0.177043</td>\n",
              "    </tr>\n",
              "    <tr>\n",
              "      <th>24027</th>\n",
              "      <td>0.103448</td>\n",
              "      <td>0.231322</td>\n",
              "      <td>0.55</td>\n",
              "      <td>0.000000</td>\n",
              "      <td>0.682081</td>\n",
              "      <td>0.0625</td>\n",
              "      <td>0.454545</td>\n",
              "      <td>0.265306</td>\n",
              "      <td>0.596939</td>\n",
              "      <td>0.256348</td>\n",
              "    </tr>\n",
              "    <tr>\n",
              "      <th>24028</th>\n",
              "      <td>0.344828</td>\n",
              "      <td>0.258155</td>\n",
              "      <td>0.55</td>\n",
              "      <td>0.000000</td>\n",
              "      <td>0.780347</td>\n",
              "      <td>0.7500</td>\n",
              "      <td>1.000000</td>\n",
              "      <td>0.290599</td>\n",
              "      <td>0.612245</td>\n",
              "      <td>0.282087</td>\n",
              "    </tr>\n",
              "    <tr>\n",
              "      <th>24029</th>\n",
              "      <td>0.268966</td>\n",
              "      <td>0.050474</td>\n",
              "      <td>0.60</td>\n",
              "      <td>1.000000</td>\n",
              "      <td>0.184971</td>\n",
              "      <td>0.1875</td>\n",
              "      <td>0.636364</td>\n",
              "      <td>0.982422</td>\n",
              "      <td>0.107143</td>\n",
              "      <td>0.980522</td>\n",
              "    </tr>\n",
              "    <tr>\n",
              "      <th>24030</th>\n",
              "      <td>0.241379</td>\n",
              "      <td>0.552519</td>\n",
              "      <td>0.55</td>\n",
              "      <td>1.000000</td>\n",
              "      <td>0.184971</td>\n",
              "      <td>0.1875</td>\n",
              "      <td>0.636364</td>\n",
              "      <td>0.075013</td>\n",
              "      <td>0.642857</td>\n",
              "      <td>0.070609</td>\n",
              "    </tr>\n",
              "    <tr>\n",
              "      <th>24031</th>\n",
              "      <td>0.655172</td>\n",
              "      <td>0.694763</td>\n",
              "      <td>0.55</td>\n",
              "      <td>1.000000</td>\n",
              "      <td>0.953757</td>\n",
              "      <td>0.1875</td>\n",
              "      <td>0.636364</td>\n",
              "      <td>0.637538</td>\n",
              "      <td>0.642857</td>\n",
              "      <td>0.614957</td>\n",
              "    </tr>\n",
              "    <tr>\n",
              "      <th>24032</th>\n",
              "      <td>0.248276</td>\n",
              "      <td>0.053167</td>\n",
              "      <td>0.55</td>\n",
              "      <td>1.000000</td>\n",
              "      <td>0.953757</td>\n",
              "      <td>0.1875</td>\n",
              "      <td>0.636364</td>\n",
              "      <td>0.728211</td>\n",
              "      <td>0.785714</td>\n",
              "      <td>0.719652</td>\n",
              "    </tr>\n",
              "    <tr>\n",
              "      <th>24033</th>\n",
              "      <td>0.103448</td>\n",
              "      <td>0.435910</td>\n",
              "      <td>0.50</td>\n",
              "      <td>0.000000</td>\n",
              "      <td>0.734104</td>\n",
              "      <td>0.0625</td>\n",
              "      <td>0.454545</td>\n",
              "      <td>0.107748</td>\n",
              "      <td>0.204082</td>\n",
              "      <td>0.101565</td>\n",
              "    </tr>\n",
              "    <tr>\n",
              "      <th>24034</th>\n",
              "      <td>0.206897</td>\n",
              "      <td>0.067731</td>\n",
              "      <td>0.50</td>\n",
              "      <td>0.000000</td>\n",
              "      <td>0.479769</td>\n",
              "      <td>0.3750</td>\n",
              "      <td>1.000000</td>\n",
              "      <td>0.335160</td>\n",
              "      <td>0.178571</td>\n",
              "      <td>0.327304</td>\n",
              "    </tr>\n",
              "    <tr>\n",
              "      <th>24035</th>\n",
              "      <td>0.206897</td>\n",
              "      <td>0.108130</td>\n",
              "      <td>0.50</td>\n",
              "      <td>0.000000</td>\n",
              "      <td>0.479769</td>\n",
              "      <td>0.3750</td>\n",
              "      <td>1.000000</td>\n",
              "      <td>0.406154</td>\n",
              "      <td>0.994898</td>\n",
              "      <td>0.403826</td>\n",
              "    </tr>\n",
              "  </tbody>\n",
              "</table>\n",
              "<p>24036 rows × 10 columns</p>\n",
              "</div>"
            ],
            "text/plain": [
              "              0         1     2         3         4       5         6  \\\n",
              "0      0.413793  0.945736  0.35  0.666667  0.965318  1.0000  0.636364   \n",
              "1      0.096552  0.564489  0.35  0.000000  0.479769  0.3750  1.000000   \n",
              "2      0.117241  0.780948  0.35  0.000000  0.549133  0.0625  0.454545   \n",
              "3      0.441379  0.444389  0.35  0.000000  0.780347  0.7500  1.000000   \n",
              "4      0.310345  0.405786  0.30  0.666667  0.393064  1.0000  0.636364   \n",
              "5      0.641379  0.285486  0.30  0.000000  0.479769  0.3750  1.000000   \n",
              "6      0.137931  0.023940  0.30  1.000000  0.184971  0.1875  0.818182   \n",
              "7      0.144828  0.360299  0.30  0.000000  0.734104  0.0625  0.454545   \n",
              "8      0.282759  0.417556  0.30  1.000000  0.184971  0.1875  0.818182   \n",
              "9      0.241379  0.602394  0.30  0.000000  0.005780  0.7500  1.000000   \n",
              "10     0.475862  0.077706  0.30  0.000000  0.312139  0.3750  1.000000   \n",
              "11     0.344828  0.290673  0.30  0.000000  0.080925  0.3750  1.000000   \n",
              "12     0.475862  0.861347  0.30  0.000000  0.479769  0.3750  1.000000   \n",
              "13     0.137931  0.734165  0.30  0.666667  0.265896  1.0000  0.636364   \n",
              "14     0.131034  0.172170  0.30  0.000000  0.479769  0.3750  1.000000   \n",
              "15     0.344828  0.100848  0.30  0.000000  0.329480  0.7500  1.000000   \n",
              "16     0.124138  0.779152  0.40  0.000000  0.786127  0.7500  1.000000   \n",
              "17     0.344828  0.520399  0.40  0.000000  0.479769  0.3750  1.000000   \n",
              "18     0.117241  0.366085  0.40  1.000000  0.184971  0.1875  0.818182   \n",
              "19     0.103448  0.415362  0.40  0.333333  0.283237  0.2500  0.000000   \n",
              "20     0.475862  0.418155  0.40  0.000000  0.479769  0.3750  1.000000   \n",
              "21     0.103448  0.685885  0.35  0.333333  0.283237  0.2500  0.000000   \n",
              "22     0.103448  0.988429  0.35  0.333333  0.283237  0.2500  0.000000   \n",
              "23     0.144828  0.421247  0.35  0.000000  0.705202  0.0625  0.454545   \n",
              "24     0.544828  0.983042  0.35  0.000000  1.000000  0.3750  1.000000   \n",
              "25     0.089655  0.059850  0.35  0.000000  0.549133  0.0625  0.454545   \n",
              "26     0.137931  0.141047  0.35  0.000000  0.734104  0.0625  0.454545   \n",
              "27     0.544828  0.436708  0.55  0.000000  0.867052  0.3750  1.000000   \n",
              "28     0.406897  0.374264  0.55  0.000000  0.716763  0.0625  0.454545   \n",
              "29     0.434483  0.315810  0.55  0.000000  0.734104  0.0625  0.454545   \n",
              "...         ...       ...   ...       ...       ...     ...       ...   \n",
              "24006  0.103448  0.923292  0.45  1.000000  0.173410  0.9375  0.636364   \n",
              "24007  0.172414  0.194214  0.45  1.000000  0.184971  0.1875  0.636364   \n",
              "24008  0.103448  0.161796  0.30  1.000000  0.583815  0.1875  0.636364   \n",
              "24009  0.289655  0.521895  0.50  0.000000  0.479769  0.3750  1.000000   \n",
              "24010  0.103448  0.734165  0.50  0.000000  0.098266  0.4375  1.000000   \n",
              "24011  0.268966  0.694763  0.50  0.000000  0.098266  0.4375  1.000000   \n",
              "24012  0.275862  0.251671  0.50  1.000000  0.306358  0.1875  0.818182   \n",
              "24013  0.137931  0.817257  0.50  0.000000  0.294798  0.7500  1.000000   \n",
              "24014  0.213793  0.818055  0.50  1.000000  0.971098  0.1875  0.818182   \n",
              "24015  0.496552  0.004389  0.50  1.000000  0.184971  0.1875  0.818182   \n",
              "24016  0.213793  0.025536  0.50  0.000000  0.618497  0.7500  1.000000   \n",
              "24017  0.137931  0.123990  0.50  0.000000  0.075145  0.0000  0.181818   \n",
              "24018  0.282759  0.258753  0.50  0.000000  0.618497  0.7500  1.000000   \n",
              "24019  0.103448  0.543840  0.50  1.000000  0.184971  0.1875  0.818182   \n",
              "24020  0.379310  0.694763  0.50  1.000000  0.184971  0.1875  0.818182   \n",
              "24021  0.641379  0.286484  0.55  0.000000  0.080925  0.3750  1.000000   \n",
              "24022  0.172414  0.490873  0.55  0.000000  0.294798  0.7500  1.000000   \n",
              "24023  0.213793  0.826733  0.55  0.000000  0.005780  0.7500  1.000000   \n",
              "24024  0.324138  0.525387  0.55  0.000000  0.549133  0.0625  0.454545   \n",
              "24025  0.172414  0.662045  0.55  0.000000  0.479769  0.3750  1.000000   \n",
              "24026  0.193103  0.286584  0.55  0.000000  0.121387  0.7500  1.000000   \n",
              "24027  0.103448  0.231322  0.55  0.000000  0.682081  0.0625  0.454545   \n",
              "24028  0.344828  0.258155  0.55  0.000000  0.780347  0.7500  1.000000   \n",
              "24029  0.268966  0.050474  0.60  1.000000  0.184971  0.1875  0.636364   \n",
              "24030  0.241379  0.552519  0.55  1.000000  0.184971  0.1875  0.636364   \n",
              "24031  0.655172  0.694763  0.55  1.000000  0.953757  0.1875  0.636364   \n",
              "24032  0.248276  0.053167  0.55  1.000000  0.953757  0.1875  0.636364   \n",
              "24033  0.103448  0.435910  0.50  0.000000  0.734104  0.0625  0.454545   \n",
              "24034  0.206897  0.067731  0.50  0.000000  0.479769  0.3750  1.000000   \n",
              "24035  0.206897  0.108130  0.50  0.000000  0.479769  0.3750  1.000000   \n",
              "\n",
              "              7         8         9  \n",
              "0      0.858695  0.612245  0.848348  \n",
              "1      0.487833  0.107143  0.480696  \n",
              "2      0.103730  0.413265  0.098783  \n",
              "3      0.167329  0.612245  0.164870  \n",
              "4      0.315162  0.612245  0.303304  \n",
              "5      0.654796  0.107143  0.632000  \n",
              "6      0.714377  0.081633  0.705391  \n",
              "7      0.789892  0.729592  0.785043  \n",
              "8      0.084646  0.066327  0.081043  \n",
              "9      0.299731  0.107143  0.288348  \n",
              "10     0.415970  0.107143  0.414261  \n",
              "11     0.415925  0.556122  0.414261  \n",
              "12     0.625942  0.066327  0.605565  \n",
              "13     0.991691  0.612245  0.988174  \n",
              "14     0.634936  0.994898  0.611130  \n",
              "15     0.674565  0.413265  0.658087  \n",
              "16     0.324750  0.642857  0.317217  \n",
              "17     0.352463  0.408163  0.341565  \n",
              "18     0.393416  0.964286  0.383304  \n",
              "19     0.411953  0.658163  0.406957  \n",
              "20     0.823586  0.066327  0.817739  \n",
              "21     0.513583  0.658163  0.502609  \n",
              "22     0.513811  0.658163  0.502609  \n",
              "23     0.579647  0.994898  0.560000  \n",
              "24     0.694699  0.107143  0.681391  \n",
              "25     0.707300  0.066327  0.697391  \n",
              "26     0.713281  0.311224  0.702609  \n",
              "27     0.875588  0.107143  0.864348  \n",
              "28     0.882025  0.612245  0.866435  \n",
              "29     0.936447  0.107143  0.933913  \n",
              "...         ...       ...       ...  \n",
              "24006  0.860887  0.336735  0.850435  \n",
              "24007  0.129343  0.642857  0.125217  \n",
              "24008  0.119664  0.413265  0.114087  \n",
              "24009  0.068895  0.178571  0.064000  \n",
              "24010  0.089759  0.785714  0.086609  \n",
              "24011  0.147605  0.413265  0.144348  \n",
              "24012  0.720267  0.178571  0.710609  \n",
              "24013  0.738712  0.612245  0.728348  \n",
              "24014  0.846140  0.066327  0.836870  \n",
              "24015  0.873990  0.066327  0.862261  \n",
              "24016  0.009496  0.785714  0.009391  \n",
              "24017  0.107428  0.775510  0.100870  \n",
              "24018  0.561841  0.178571  0.543652  \n",
              "24019  0.566498  0.642857  0.548870  \n",
              "24020  0.587180  0.066327  0.565565  \n",
              "24021  0.454458  0.107143  0.451478  \n",
              "24022  0.580879  0.178571  0.560348  \n",
              "24023  0.589097  0.178571  0.568696  \n",
              "24024  0.608684  0.066327  0.587478  \n",
              "24025  0.672830  0.984694  0.653217  \n",
              "24026  0.180843  0.729592  0.177043  \n",
              "24027  0.265306  0.596939  0.256348  \n",
              "24028  0.290599  0.612245  0.282087  \n",
              "24029  0.982422  0.107143  0.980522  \n",
              "24030  0.075013  0.642857  0.070609  \n",
              "24031  0.637538  0.642857  0.614957  \n",
              "24032  0.728211  0.785714  0.719652  \n",
              "24033  0.107748  0.204082  0.101565  \n",
              "24034  0.335160  0.178571  0.327304  \n",
              "24035  0.406154  0.994898  0.403826  \n",
              "\n",
              "[24036 rows x 10 columns]"
            ]
          },
          "metadata": {
            "tags": []
          },
          "execution_count": 5
        }
      ]
    },
    {
      "metadata": {
        "id": "UyvoEDL5P_2U",
        "colab_type": "text"
      },
      "cell_type": "markdown",
      "source": [
        "**Catalogar o dataset**\n",
        "\n",
        "Dimensionalidade: 13\n",
        "Esparsidade: Os dados são densos\n",
        "Resolução: price ??\n",
        "Tamanho dataset: 130 000"
      ]
    },
    {
      "metadata": {
        "id": "wYNdjfTfRyCE",
        "colab_type": "code",
        "outputId": "3ec9dcef-70b2-43bd-ae65-431eede08335",
        "colab": {
          "base_uri": "https://localhost:8080/",
          "height": 90
        }
      },
      "cell_type": "code",
      "source": [
        "import numpy as np\n",
        "\n",
        "frame = df_original.head(50)\n",
        "\n",
        "#feature pontos\n",
        "frame.aggregate(['max', 'min', 'mean'])['points']  \n"
      ],
      "execution_count": 6,
      "outputs": [
        {
          "output_type": "execute_result",
          "data": {
            "text/plain": [
              "max     91.00\n",
              "mean    88.16\n",
              "min     85.00\n",
              "Name: points, dtype: float64"
            ]
          },
          "metadata": {
            "tags": []
          },
          "execution_count": 6
        }
      ]
    },
    {
      "metadata": {
        "id": "GpBhEggXbBr3",
        "colab_type": "code",
        "outputId": "193bf246-d12f-4ad4-e663-1ae62b0d0fc2",
        "colab": {
          "base_uri": "https://localhost:8080/",
          "height": 90
        }
      },
      "cell_type": "code",
      "source": [
        "#feature preço\n",
        "frame.aggregate(['max', 'min', 'mean'])['price']\n",
        "\n"
      ],
      "execution_count": 7,
      "outputs": [
        {
          "output_type": "execute_result",
          "data": {
            "text/plain": [
              "max     100.00\n",
              "mean     44.04\n",
              "min      18.00\n",
              "Name: price, dtype: float64"
            ]
          },
          "metadata": {
            "tags": []
          },
          "execution_count": 7
        }
      ]
    },
    {
      "metadata": {
        "id": "rHs3qe6rcOCN",
        "colab_type": "code",
        "outputId": "2fc34e75-14a1-4a02-9e59-e375629a32ab",
        "colab": {
          "base_uri": "https://localhost:8080/",
          "height": 54
        }
      },
      "cell_type": "code",
      "source": [
        "#moda da provincia\n",
        "frame.province.mode()\n"
      ],
      "execution_count": 8,
      "outputs": [
        {
          "output_type": "execute_result",
          "data": {
            "text/plain": [
              "0    California\n",
              "dtype: object"
            ]
          },
          "metadata": {
            "tags": []
          },
          "execution_count": 8
        }
      ]
    },
    {
      "metadata": {
        "id": "8uHoVyKncajG",
        "colab_type": "code",
        "outputId": "d0a51ca8-17b0-4436-d25e-826bdef23f5e",
        "colab": {
          "base_uri": "https://localhost:8080/",
          "height": 72
        }
      },
      "cell_type": "code",
      "source": [
        "#moda da designação do vinho\n",
        "\n",
        "frame.designation.mode()\n"
      ],
      "execution_count": 9,
      "outputs": [
        {
          "output_type": "execute_result",
          "data": {
            "text/plain": [
              "0            Estate\n",
              "1    Family Reserve\n",
              "dtype: object"
            ]
          },
          "metadata": {
            "tags": []
          },
          "execution_count": 9
        }
      ]
    },
    {
      "metadata": {
        "id": "MkQUXe4XcgBS",
        "colab_type": "code",
        "outputId": "1670028d-883e-4b4a-ffff-ab8405078b19",
        "colab": {
          "base_uri": "https://localhost:8080/",
          "height": 54
        }
      },
      "cell_type": "code",
      "source": [
        "#moda da região 1\n",
        "\n",
        "frame.region_1.mode()\n"
      ],
      "execution_count": 10,
      "outputs": [
        {
          "output_type": "execute_result",
          "data": {
            "text/plain": [
              "0    Napa Valley\n",
              "dtype: object"
            ]
          },
          "metadata": {
            "tags": []
          },
          "execution_count": 10
        }
      ]
    },
    {
      "metadata": {
        "id": "214EbQvMcjKF",
        "colab_type": "code",
        "outputId": "f6ed5869-6147-43d3-c8a5-129ac414ed50",
        "colab": {
          "base_uri": "https://localhost:8080/",
          "height": 54
        }
      },
      "cell_type": "code",
      "source": [
        "#moda da região 2\n",
        "frame.region_2.mode()\n"
      ],
      "execution_count": 11,
      "outputs": [
        {
          "output_type": "execute_result",
          "data": {
            "text/plain": [
              "0    Central Coast\n",
              "dtype: object"
            ]
          },
          "metadata": {
            "tags": []
          },
          "execution_count": 11
        }
      ]
    },
    {
      "metadata": {
        "id": "0jmEOYlWdaFI",
        "colab_type": "code",
        "outputId": "b562771b-19ac-4ce7-dfdb-1e3ecd22e33f",
        "colab": {
          "base_uri": "https://localhost:8080/",
          "height": 54
        }
      },
      "cell_type": "code",
      "source": [
        "#moda da variedade\n",
        "frame.variety.mode()\n"
      ],
      "execution_count": 12,
      "outputs": [
        {
          "output_type": "execute_result",
          "data": {
            "text/plain": [
              "0    Pinot Noir\n",
              "dtype: object"
            ]
          },
          "metadata": {
            "tags": []
          },
          "execution_count": 12
        }
      ]
    },
    {
      "metadata": {
        "id": "UN4A_RQCdkUm",
        "colab_type": "code",
        "outputId": "a31292b8-659c-465f-cd1d-3c1d468863bf",
        "colab": {
          "base_uri": "https://localhost:8080/",
          "height": 108
        }
      },
      "cell_type": "code",
      "source": [
        "#moda da produtora de vinho\n",
        "frame.winery.mode()"
      ],
      "execution_count": 13,
      "outputs": [
        {
          "output_type": "execute_result",
          "data": {
            "text/plain": [
              "0            Hindsight\n",
              "1              J. Lohr\n",
              "2    Lamoreaux Landing\n",
              "3    Vincent Vineyards\n",
              "dtype: object"
            ]
          },
          "metadata": {
            "tags": []
          },
          "execution_count": 13
        }
      ]
    },
    {
      "metadata": {
        "id": "O5-auE0Od8QW",
        "colab_type": "code",
        "outputId": "7f2e069c-b65f-42df-91e9-0da35a74bfa1",
        "colab": {
          "base_uri": "https://localhost:8080/",
          "height": 54
        }
      },
      "cell_type": "code",
      "source": [
        "#moda do provador\n",
        "frame.taster_name.mode()"
      ],
      "execution_count": 14,
      "outputs": [
        {
          "output_type": "execute_result",
          "data": {
            "text/plain": [
              "0    Virginie Boone\n",
              "dtype: object"
            ]
          },
          "metadata": {
            "tags": []
          },
          "execution_count": 14
        }
      ]
    },
    {
      "metadata": {
        "id": "bT0rBN90k3T4",
        "colab_type": "code",
        "outputId": "8b7a58ee-20f5-459f-c7ef-ad63901b5277",
        "colab": {
          "base_uri": "https://localhost:8080/",
          "height": 35
        }
      },
      "cell_type": "code",
      "source": [
        "#variância do preço\n",
        "\n",
        "\n",
        "np.var(df_original['price'])"
      ],
      "execution_count": 15,
      "outputs": [
        {
          "output_type": "execute_result",
          "data": {
            "text/plain": [
              "832.1094388728999"
            ]
          },
          "metadata": {
            "tags": []
          },
          "execution_count": 15
        }
      ]
    },
    {
      "metadata": {
        "id": "zSX75n4vk9N3",
        "colab_type": "code",
        "outputId": "8a0aff01-c3b0-490c-aea4-a2caaa1ac27b",
        "colab": {
          "base_uri": "https://localhost:8080/",
          "height": 35
        }
      },
      "cell_type": "code",
      "source": [
        "#variância dos pontos\n",
        "\n",
        "\n",
        "np.var(df_original['points'])"
      ],
      "execution_count": 16,
      "outputs": [
        {
          "output_type": "execute_result",
          "data": {
            "text/plain": [
              "7.8677055906126805"
            ]
          },
          "metadata": {
            "tags": []
          },
          "execution_count": 16
        }
      ]
    },
    {
      "metadata": {
        "id": "LwIve-US1ULp",
        "colab_type": "code",
        "outputId": "0e411426-e7a8-4d99-a4f2-8d1a731ea973",
        "colab": {
          "base_uri": "https://localhost:8080/",
          "height": 449
        }
      },
      "cell_type": "code",
      "source": [
        "import matplotlib.pyplot as plt\n",
        "import seaborn as sns\n",
        "\n",
        "# matplotlib histogram\n",
        "plt.hist(df_original['price'], color = 'red', edgecolor = 'white',\n",
        "         bins = int(1800))\n",
        "\n",
        "# seaborn histogram\n",
        "sns.distplot(df_original['price'], hist=True, kde=False, \n",
        "             bins=int(1800), color = 'red',\n",
        "             hist_kws={'edgecolor':'black'})\n",
        "\n",
        "sns.plt.xlim(0, 100)\n",
        "# Add labels\n",
        "plt.title('Histograma do preço')\n",
        "plt.xlabel('Preço')\n",
        "plt.ylabel('Frequência')"
      ],
      "execution_count": 18,
      "outputs": [
        {
          "output_type": "stream",
          "text": [
            "/usr/local/lib/python3.6/dist-packages/matplotlib/axes/_axes.py:6521: MatplotlibDeprecationWarning: \n",
            "The 'normed' kwarg was deprecated in Matplotlib 2.1 and will be removed in 3.1. Use 'density' instead.\n",
            "  alternative=\"'density'\", removal=\"3.1\")\n"
          ],
          "name": "stderr"
        },
        {
          "output_type": "execute_result",
          "data": {
            "text/plain": [
              "Text(0, 0.5, 'Frequência')"
            ]
          },
          "metadata": {
            "tags": []
          },
          "execution_count": 18
        },
        {
          "output_type": "display_data",
          "data": {
            "image/png": "iVBORw0KGgoAAAANSUhEUgAAAgAAAAFnCAYAAADQYfGFAAAABHNCSVQICAgIfAhkiAAAAAlwSFlz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\niAAAAIAJ/T8DjBhmRXjNUgAAAABJRU5ErkJggg==\n",
            "text/plain": [
              "<Figure size 576x396 with 1 Axes>"
            ]
          },
          "metadata": {
            "tags": []
          }
        }
      ]
    },
    {
      "metadata": {
        "id": "l5ZS_NT8zeCd",
        "colab_type": "code",
        "outputId": "99712108-32d1-4623-87bb-c0c89af11dea",
        "colab": {
          "base_uri": "https://localhost:8080/",
          "height": 449
        }
      },
      "cell_type": "code",
      "source": [
        "import matplotlib.pyplot as plt\n",
        "import seaborn as sns\n",
        "\n",
        "# matplotlib histogram\n",
        "plt.hist(df_original['points'], color = 'blue', edgecolor = 'black',\n",
        "         bins = int(180/5))\n",
        "\n",
        "# seaborn histogram\n",
        "sns.distplot(df_original['points'], hist=True, kde=False, \n",
        "             bins=int(180/5), color = 'blue',\n",
        "             hist_kws={'edgecolor':'black'})\n",
        "# Add labels\n",
        "plt.title('Histograma dos pontos')\n",
        "plt.xlabel('Pontos')\n",
        "plt.ylabel('Frequência')"
      ],
      "execution_count": 19,
      "outputs": [
        {
          "output_type": "stream",
          "text": [
            "/usr/local/lib/python3.6/dist-packages/matplotlib/axes/_axes.py:6521: MatplotlibDeprecationWarning: \n",
            "The 'normed' kwarg was deprecated in Matplotlib 2.1 and will be removed in 3.1. Use 'density' instead.\n",
            "  alternative=\"'density'\", removal=\"3.1\")\n"
          ],
          "name": "stderr"
        },
        {
          "output_type": "execute_result",
          "data": {
            "text/plain": [
              "Text(0, 0.5, 'Frequência')"
            ]
          },
          "metadata": {
            "tags": []
          },
          "execution_count": 19
        },
        {
          "output_type": "display_data",
          "data": {
            "image/png": "iVBORw0KGgoAAAANSUhEUgAAAfgAAAFnCAYAAABKGFvpAAAABHNCSVQICAgIfAhkiAAAAAlwSFlz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\nYL/b2P19AAAAAElFTkSuQmCC\n",
            "text/plain": [
              "<Figure size 576x396 with 1 Axes>"
            ]
          },
          "metadata": {
            "tags": []
          }
        }
      ]
    },
    {
      "metadata": {
        "id": "0J8UsUjjC1p-",
        "colab_type": "text"
      },
      "cell_type": "markdown",
      "source": [
        "Features - Tipo?\n",
        "\n",
        "\n",
        "designation\t- Discreto\n",
        "\n",
        "points\t- Discreto\n",
        "\n",
        "price\t- Discreto\n",
        "\n",
        "province -\tDiscreto\n",
        "\n",
        "region_1\t- Discreto\n",
        "\n",
        "region_2\t- Discreto\n",
        "\n",
        "taster_name -\tDiscreto\n",
        "\n",
        "title\t- Discreto\n",
        "\n",
        "variety -\tDiscreto\n",
        "\n",
        "winery - Discreto"
      ]
    },
    {
      "metadata": {
        "id": "sZ96YDLQF0RF",
        "colab_type": "text"
      },
      "cell_type": "markdown",
      "source": [
        "Analisar NaN ou Outliers\n",
        "\n",
        "Decidimos remover dados com informação em falta (NaNs) de forma a obter melhores resultados nos nossos algoritmos\n",
        "\n",
        "\n",
        "NaNs no preço existe apenas num produto cujo preço é desconhecido\n",
        "NaNs na region_1 e _2 provém do facto de um vinho poder vir de uma determinada província mas nao ser de uma região em específico\n",
        "NaNs no twitter handle e no taster name devido a não haver registo do enólogo ou ao enólogo não ter twitter\n",
        "\n",
        "Não há outliers"
      ]
    },
    {
      "metadata": {
        "id": "KQoaHC0qMqvN",
        "colab_type": "text"
      },
      "cell_type": "markdown",
      "source": [
        "Quais não são relevantes? \n",
        "region_1\tregion_2\ttaster_name\ttaster_twitter_handle"
      ]
    },
    {
      "metadata": {
        "id": "286j5e0LMvtZ",
        "colab_type": "text"
      },
      "cell_type": "markdown",
      "source": [
        "***encoding***"
      ]
    },
    {
      "metadata": {
        "id": "WiAMoaB5PEXz",
        "colab_type": "code",
        "outputId": "d6052b11-99eb-4f7b-e08b-f621e83781bc",
        "colab": {
          "base_uri": "https://localhost:8080/",
          "height": 408
        }
      },
      "cell_type": "code",
      "source": [
        "import matplotlib.pyplot as plt\n",
        "import seaborn as sb\n",
        "\n",
        "corr = df_heat.corr()\n",
        "sb.heatmap(corr)\n",
        "plt.title('Mapa de calor das variáveis')\n",
        "plt.show()\n"
      ],
      "execution_count": 21,
      "outputs": [
        {
          "output_type": "display_data",
          "data": {
            "image/png": "iVBORw0KGgoAAAANSUhEUgAAAfIAAAGHCAYAAABLftCiAAAABHNCSVQICAgIfAhkiAAAAAlwSFlz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\nQmCC\n",
            "text/plain": [
              "<Figure size 576x396 with 2 Axes>"
            ]
          },
          "metadata": {
            "tags": []
          }
        }
      ]
    },
    {
      "metadata": {
        "id": "ae0nucCfXGZM",
        "colab_type": "text"
      },
      "cell_type": "markdown",
      "source": [
        "A partir da análise do heatmap podemos observar que as variáveis que mais se relacionam com o target (**preço**) são:\n",
        "\n",
        "Positivamente - points, taster_name\n",
        "\n",
        "Negativamente - variety, province\n",
        "\n",
        "Outras variáveis:\n",
        "\n",
        "\n",
        "**Points**:\n",
        "\n",
        "Positivamente - price\n",
        "\n",
        "**Province**:\n",
        "\n",
        "\n",
        "\n",
        "Negativamente - price\n",
        "\n",
        "**Region_1**:\n",
        "\n",
        "Positivamente - price,points, region_2,taster_name\n",
        "\n",
        "**Region_2**:\n",
        "\n",
        "Positivamente - price, region_1, taster_name, variety\n",
        "\n",
        "\n",
        "**Taster_name**:\n",
        "\n",
        "Positivamente - price,region_2\n",
        "\n",
        "Negativamente -  variety\n",
        "\n",
        "\n",
        "\n",
        "**Variety**:\n",
        "\n",
        "Positivamente -  region_2\n",
        "\n",
        "Negativamente - price, taster_name\n",
        "\n",
        "\n"
      ]
    },
    {
      "metadata": {
        "id": "qlSDZpg9Pd9k",
        "colab_type": "text"
      },
      "cell_type": "markdown",
      "source": [
        "**Resumo **- O nosso grupo escolheu um dataset sobre vinhos com o objetivo de descobrir o preço com base na descrição e na pontuação.\n",
        "O nosso dataset tem as seguintes features : country,\tdescription,\tdesignation,\tpoints,\tprice,\tprovince,\tregion_1,\tregion_2,\ttaster_name,\ttaster_twitter_handle,\ttitle,\tvariety,\twinery.\n",
        "\n",
        "Neste sentido,  começámos por calcular as médias e as modas, como também os valores mínimos e valores máximos, depois definimos as resoluções, identificamos os tipos e a existência de NaNs e de Outliers, a relevância/irrelevância de features e ponderamos o uso de one hot encoding para algumas features discretas.\n",
        "Em análise conseguimos observar as nossas features: são variáveis densas pois o valores não variam muito entre si.\n",
        "\n",
      
      ]
    }
  ]
}
